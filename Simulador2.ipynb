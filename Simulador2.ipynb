{
 "cells": [
  {
   "cell_type": "code",
   "execution_count": 5,
   "metadata": {},
   "outputs": [],
   "source": [
    "# Importación de paquetes\n",
    "import numpy as np # Cálculo numérico\n",
    "import pandas as pd # Análisis de datos\n",
    "import matplotlib.pyplot as plt # Visualización"
   ]
  },
  {
   "cell_type": "code",
   "execution_count": 6,
   "metadata": {},
   "outputs": [],
   "source": [
    "# Creación de la tabla para registrar las réplicas\n",
    "replicas = pd.DataFrame()"
   ]
  },
  {
   "cell_type": "markdown",
   "metadata": {},
   "source": [
    "### Parámetros del Modelo"
   ]
  },
  {
   "cell_type": "code",
   "execution_count": 27,
   "metadata": {},
   "outputs": [],
   "source": [
    "# Condiciones Iniciales\n",
    "F = 5000 # Costo fijo de producción para Q <= 10.000\n",
    "V = 3 # Costo variable unitario\n",
    "P = 50 # Precio de venta unitario\n",
    "C_reciclaje = 60 # Costo de manipulación y reciclaje por unidad no vendida\n",
    "C_perdida = 50 # Costo por venta perdida\n",
    "Rango_Produccion = range(10000, 20100, 100)\n",
    "\n",
    "# Datos Determinísticos\n",
    "numero_simulaciones = 10000\n",
    "\n",
    "# Datos Estocásticos\n",
    "media_demanda = 13000\n",
    "std_dev_demanda = 3162"
   ]
  },
  {
   "cell_type": "markdown",
   "metadata": {},
   "source": [
    "### Variables de Estado"
   ]
  },
  {
   "cell_type": "code",
   "execution_count": 59,
   "metadata": {},
   "outputs": [],
   "source": [
    "D = 0 # Cantidad demandada en cada simulación\n",
    "I = 0 # Cantidad total de ingresos en cada simulación\n",
    "C = 0 # Cantidad total de costos en cada simulación\n",
    "\n",
    "# Variable de Conteo\n",
    "B = 0 # Beneficio acumulado en cada simulación\n",
    "\n",
    "# Lista para almacenar los resultados de cada iteración\n",
    "resultados = []"
   ]
  },
  {
   "cell_type": "markdown",
   "metadata": {},
   "source": [
    "### Simulador"
   ]
  },
  {
   "cell_type": "code",
   "execution_count": 60,
   "metadata": {},
   "outputs": [],
   "source": [
    "for Q in Rango_Produccion:\n",
    "    # En este caso, si la producción es > 10.000, el costo fijo es de 7.000 dólares\n",
    "    if Q > 10000: F = 7000\n",
    "    for _ in range(numero_simulaciones):\n",
    "        # Generar números aleatorios con distribución uniforme (0, 1)\n",
    "        u1 = np.random.uniform()\n",
    "        u2 = np.random.uniform()\n",
    " \n",
    "        # Generar demanda con distribución normal de parámetros establecidos aplicando el método directo\n",
    "        D = media_demanda + std_dev_demanda * ((-2 * np.log(u1))**(1/2)) * np.cos(2 * np.pi * u2)\n",
    "\n",
    "        # nos aseguramos de que la demanda sea un entero\n",
    "        D = int(D)\n",
    "        \n",
    "        # Calcular Ingresos\n",
    "        I = P * np.min([D, Q])\n",
    "\n",
    "        # Calcular Costos\n",
    "        C = F + V * Q + C_reciclaje * np.max([0, Q - D]) + C_perdida * np.max([0, D - Q])\n",
    "\n",
    "        # Actualizar beneficio acumulado\n",
    "        B = B + (I - C)\n",
    "    \n",
    "    # Registro de los resultados de la simulación\n",
    "    resultados.append({\n",
    "        'Producción': Q,\n",
    "        'Beneficio Total Esperado (dólares)': B / numero_simulaciones\n",
    "    })\n",
    "\n",
    "    # Reiniciar variable de conteo\n",
    "    B = 0"
   ]
  },
  {
   "cell_type": "markdown",
   "metadata": {},
   "source": [
    "### Resultados de Nuevas Réplicas"
   ]
  },
  {
   "cell_type": "code",
   "execution_count": 61,
   "metadata": {},
   "outputs": [
    {
     "data": {
      "text/html": [
       "<div>\n",
       "<style scoped>\n",
       "    .dataframe tbody tr th:only-of-type {\n",
       "        vertical-align: middle;\n",
       "    }\n",
       "\n",
       "    .dataframe tbody tr th {\n",
       "        vertical-align: top;\n",
       "    }\n",
       "\n",
       "    .dataframe thead th {\n",
       "        text-align: right;\n",
       "    }\n",
       "</style>\n",
       "<table border=\"1\" class=\"dataframe\">\n",
       "  <thead>\n",
       "    <tr style=\"text-align: right;\">\n",
       "      <th></th>\n",
       "      <th>Producción</th>\n",
       "      <th>Beneficio Total Esperado (dólares)</th>\n",
       "    </tr>\n",
       "  </thead>\n",
       "  <tbody>\n",
       "    <tr>\n",
       "      <th>0</th>\n",
       "      <td>10000</td>\n",
       "      <td>265,554.84</td>\n",
       "    </tr>\n",
       "    <tr>\n",
       "      <th>1</th>\n",
       "      <td>10100</td>\n",
       "      <td>275,095.08</td>\n",
       "    </tr>\n",
       "    <tr>\n",
       "      <th>2</th>\n",
       "      <td>10200</td>\n",
       "      <td>281,590.47</td>\n",
       "    </tr>\n",
       "    <tr>\n",
       "      <th>3</th>\n",
       "      <td>10300</td>\n",
       "      <td>286,704.53</td>\n",
       "    </tr>\n",
       "    <tr>\n",
       "      <th>4</th>\n",
       "      <td>10400</td>\n",
       "      <td>292,102.12</td>\n",
       "    </tr>\n",
       "    <tr>\n",
       "      <th>...</th>\n",
       "      <td>...</td>\n",
       "      <td>...</td>\n",
       "    </tr>\n",
       "    <tr>\n",
       "      <th>96</th>\n",
       "      <td>19600</td>\n",
       "      <td>187,734.60</td>\n",
       "    </tr>\n",
       "    <tr>\n",
       "      <th>97</th>\n",
       "      <td>19700</td>\n",
       "      <td>174,802.25</td>\n",
       "    </tr>\n",
       "    <tr>\n",
       "      <th>98</th>\n",
       "      <td>19800</td>\n",
       "      <td>174,480.94</td>\n",
       "    </tr>\n",
       "    <tr>\n",
       "      <th>99</th>\n",
       "      <td>19900</td>\n",
       "      <td>169,018.69</td>\n",
       "    </tr>\n",
       "    <tr>\n",
       "      <th>100</th>\n",
       "      <td>20000</td>\n",
       "      <td>163,421.47</td>\n",
       "    </tr>\n",
       "  </tbody>\n",
       "</table>\n",
       "<p>101 rows × 2 columns</p>\n",
       "</div>"
      ],
      "text/plain": [
       "     Producción  Beneficio Total Esperado (dólares)\n",
       "0         10000                          265,554.84\n",
       "1         10100                          275,095.08\n",
       "2         10200                          281,590.47\n",
       "3         10300                          286,704.53\n",
       "4         10400                          292,102.12\n",
       "..          ...                                 ...\n",
       "96        19600                          187,734.60\n",
       "97        19700                          174,802.25\n",
       "98        19800                          174,480.94\n",
       "99        19900                          169,018.69\n",
       "100       20000                          163,421.47\n",
       "\n",
       "[101 rows x 2 columns]"
      ]
     },
     "execution_count": 61,
     "metadata": {},
     "output_type": "execute_result"
    }
   ],
   "source": [
    "# Visualización de resultados en forma tabular\n",
    "pd.options.display.float_format = '{:,.2f}'.format\n",
    "df_resultados = pd.DataFrame(resultados)\n",
    "df_resultados"
   ]
  },
  {
   "cell_type": "code",
   "execution_count": 62,
   "metadata": {},
   "outputs": [
    {
     "data": {
      "image/png": "[encoded data removed]",
      "text/plain": [
       "<Figure size 640x480 with 1 Axes>"
      ]
     },
     "metadata": {},
     "output_type": "display_data"
    }
   ],
   "source": [
    "# Gráfica de beneficio total vs. cantidades de producción\n",
    "plt.plot(df_resultados['Producción'], df_resultados['Beneficio Total Esperado (dólares)'], color='blue')\n",
    "plt.xlabel('Producción')\n",
    "plt.ylabel('Beneficio Total Esperado (dólares)')\n",
    "plt.grid()\n",
    "plt.show()"
   ]
  },
  {
   "cell_type": "code",
   "execution_count": 63,
   "metadata": {},
   "outputs": [
    {
     "data": {
      "text/html": [
       "<div>\n",
       "<style scoped>\n",
       "    .dataframe tbody tr th:only-of-type {\n",
       "        vertical-align: middle;\n",
       "    }\n",
       "\n",
       "    .dataframe tbody tr th {\n",
       "        vertical-align: top;\n",
       "    }\n",
       "\n",
       "    .dataframe thead th {\n",
       "        text-align: right;\n",
       "    }\n",
       "</style>\n",
       "<table border=\"1\" class=\"dataframe\">\n",
       "  <thead>\n",
       "    <tr style=\"text-align: right;\">\n",
       "      <th></th>\n",
       "      <th>Producción</th>\n",
       "      <th>Beneficio Total Esperado (dólares)</th>\n",
       "    </tr>\n",
       "  </thead>\n",
       "  <tbody>\n",
       "    <tr>\n",
       "      <th>44</th>\n",
       "      <td>14400</td>\n",
       "      <td>411,318.02</td>\n",
       "    </tr>\n",
       "    <tr>\n",
       "      <th>42</th>\n",
       "      <td>14200</td>\n",
       "      <td>412,124.66</td>\n",
       "    </tr>\n",
       "    <tr>\n",
       "      <th>36</th>\n",
       "      <td>13600</td>\n",
       "      <td>412,135.58</td>\n",
       "    </tr>\n",
       "    <tr>\n",
       "      <th>41</th>\n",
       "      <td>14100</td>\n",
       "      <td>409,456.10</td>\n",
       "    </tr>\n",
       "    <tr>\n",
       "      <th>39</th>\n",
       "      <td>13900</td>\n",
       "      <td>412,568.46</td>\n",
       "    </tr>\n",
       "    <tr>\n",
       "      <th>38</th>\n",
       "      <td>13800</td>\n",
       "      <td>412,191.16</td>\n",
       "    </tr>\n",
       "    <tr>\n",
       "      <th>38</th>\n",
       "      <td>13800</td>\n",
       "      <td>412,541.94</td>\n",
       "    </tr>\n",
       "    <tr>\n",
       "      <th>42</th>\n",
       "      <td>14200</td>\n",
       "      <td>409,885.14</td>\n",
       "    </tr>\n",
       "    <tr>\n",
       "      <th>43</th>\n",
       "      <td>14300</td>\n",
       "      <td>410,406.63</td>\n",
       "    </tr>\n",
       "    <tr>\n",
       "      <th>37</th>\n",
       "      <td>13700</td>\n",
       "      <td>413,395.19</td>\n",
       "    </tr>\n",
       "  </tbody>\n",
       "</table>\n",
       "</div>"
      ],
      "text/plain": [
       "    Producción  Beneficio Total Esperado (dólares)\n",
       "44       14400                          411,318.02\n",
       "42       14200                          412,124.66\n",
       "36       13600                          412,135.58\n",
       "41       14100                          409,456.10\n",
       "39       13900                          412,568.46\n",
       "38       13800                          412,191.16\n",
       "38       13800                          412,541.94\n",
       "42       14200                          409,885.14\n",
       "43       14300                          410,406.63\n",
       "37       13700                          413,395.19"
      ]
     },
     "execution_count": 63,
     "metadata": {},
     "output_type": "execute_result"
    }
   ],
   "source": [
    "# Registramos la iteración con el mayor beneficio total esperado en esta réplica\n",
    "replicas = pd.concat([replicas, df_resultados.loc[df_resultados['Beneficio Total Esperado (dólares)'] == df_resultados['Beneficio Total Esperado (dólares)'].max()]])\n",
    "replicas"
   ]
  },
  {
   "cell_type": "markdown",
   "metadata": {},
   "source": [
    "### Selección Final de Política de Producción"
   ]
  },
  {
   "cell_type": "code",
   "execution_count": 96,
   "metadata": {},
   "outputs": [
    {
     "name": "stdout",
     "output_type": "stream",
     "text": [
      "count       10.00\n",
      "mean    14,000.00\n",
      "std        274.87\n",
      "min     13,600.00\n",
      "25%     13,800.00\n",
      "50%     14,000.00\n",
      "75%     14,200.00\n",
      "max     14,400.00\n",
      "Name: Producción, dtype: float64\n"
     ]
    }
   ],
   "source": [
    "# Estadísticas de los resultados\n",
    "print(replicas['Producción'].describe())"
   ]
  },
  {
   "cell_type": "code",
   "execution_count": 3,
   "metadata": {},
   "outputs": [],
   "source": [
    "# Importamos el paquete estadístico en Python para el cálculo del intervalo de confianza y las pruebas de hipótesis\n",
    "import scipy.stats as st"
   ]
  },
  {
   "cell_type": "code",
   "execution_count": 86,
   "metadata": {},
   "outputs": [],
   "source": [
    "# Creamos una lista con los resultados de las réplicas\n",
    "cantidades = replicas['Producción'].tolist()"
   ]
  },
  {
   "cell_type": "code",
   "execution_count": 72,
   "metadata": {},
   "outputs": [
    {
     "name": "stdout",
     "output_type": "stream",
     "text": [
      "(13807.956175933637, 13992.043824066363)\n"
     ]
    }
   ],
   "source": [
    "# Cálculo del intervalo de confianza de 95% para las cantidades a producir. Dado que el tamaño de la muestra es menor a 30 datos, utilizamos la distribución T de Student\n",
    "intervalo = st.t.interval(confidence = 0.95, df = len(cantidades) - 1, loc = 13900, scale = st.sem(cantidades))\n",
    "print(intervalo)"
   ]
  },
  {
   "cell_type": "markdown",
   "metadata": {},
   "source": [
    "### Validación del Modelo"
   ]
  },
  {
   "cell_type": "code",
   "execution_count": 90,
   "metadata": {},
   "outputs": [],
   "source": [
    "# Establecemos un nivel de significancia del 5%\n",
    "alpha = 0.05"
   ]
  },
  {
   "cell_type": "code",
   "execution_count": 87,
   "metadata": {},
   "outputs": [],
   "source": [
    "# Almacenamos en una lista los resultados de las réplicas registradas en el informe\n",
    "cantidades = [13900, 13800, 13900, 14000, 14000, 13900, 14200, 13800, 13800, 13800]"
   ]
  },
  {
   "cell_type": "code",
   "execution_count": 67,
   "metadata": {},
   "outputs": [],
   "source": [
    "# Almacenamos los valores reales suministrados por los quince vendedores para compararlos con los valores almacenados en la lista \"cantidades\" obtenidos de las 10 réplicas del experimento\n",
    "cantidades_reales = [15000, 10000, 15000, 20000, 10000, 15000, 15000, 10000, 15000, 10000, 10000, 15000, 15000, 10000, 10000]"
   ]
  },
  {
   "cell_type": "code",
   "execution_count": 91,
   "metadata": {},
   "outputs": [
    {
     "name": "stdout",
     "output_type": "stream",
     "text": [
      "Estadístico F: 0.8154021791093765\n",
      "Valor p: 0.37588839385029815\n"
     ]
    },
    {
     "data": {
      "text/plain": [
       "False"
      ]
     },
     "execution_count": 91,
     "metadata": {},
     "output_type": "execute_result"
    }
   ],
   "source": [
    "# Realizamos el ANOVA\n",
    "estadistico_f, p_valor = st.f_oneway(cantidades_reales, cantidades)\n",
    "print(f'Estadístico F: {estadistico_f}')\n",
    "print(f'Valor p: {p_valor}')\n",
    "p_valor < alpha"
   ]
  },
  {
   "cell_type": "code",
   "execution_count": 92,
   "metadata": {},
   "outputs": [
    {
     "name": "stdout",
     "output_type": "stream",
     "text": [
      "Estadístico T: -0.9029962231977365\n",
      "Valor p: 0.1879441969251492\n"
     ]
    },
    {
     "data": {
      "text/plain": [
       "False"
      ]
     },
     "execution_count": 92,
     "metadata": {},
     "output_type": "execute_result"
    }
   ],
   "source": [
    "# Realizamos la prueba T para la media correspondiente a varianzas iguales y poblacionalmente desconocidas y con media poblacional desconocida\n",
    "estadistico_t, p_valor = st.ttest_ind(cantidades_reales, cantidades, alternative='less')\n",
    "print(f'Estadístico T: {estadistico_t}')\n",
    "print(f'Valor p: {p_valor}')\n",
    "p_valor < alpha"
   ]
  }
 ],
 "metadata": {
  "kernelspec": {
   "display_name": "Python 3 (ipykernel)",
   "language": "python",
   "name": "python3"
  },
  "language_info": {
   "codemirror_mode": {
    "name": "ipython",
    "version": 3
   },
   "file_extension": ".py",
   "mimetype": "text/x-python",
   "name": "python",
   "nbconvert_exporter": "python",
   "pygments_lexer": "ipython3",
   "version": "3.11.5"
  }
 },
 "nbformat": 4,
 "nbformat_minor": 4
}
