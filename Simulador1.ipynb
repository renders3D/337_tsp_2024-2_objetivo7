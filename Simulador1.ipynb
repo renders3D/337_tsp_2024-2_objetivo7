{
 "cells": [
  {
   "cell_type": "code",
   "execution_count": 1,
   "metadata": {},
   "outputs": [],
   "source": [
    "# Importación de paquetes\n",
    "import numpy as np # Cálculo numérico\n",
    "import pandas as pd # Análisis de datos\n",
    "import matplotlib.pyplot as plt # Visualización"
   ]
  },
  {
   "cell_type": "code",
   "execution_count": 2,
   "metadata": {},
   "outputs": [],
   "source": [
    "# Creación de la tabla para registrar las réplicas\n",
    "replicas = pd.DataFrame()"
   ]
  },
  {
   "cell_type": "markdown",
   "metadata": {},
   "source": [
    "### Parámetros del Modelo"
   ]
  },
  {
   "cell_type": "code",
   "execution_count": 3,
   "metadata": {},
   "outputs": [],
   "source": [
    "# Condiciones Iniciales\n",
    "F = 6000 # Costo fijo de producción\n",
    "V = 3 # Costo variable unitario\n",
    "P = 50 # Precio de venta unitario\n",
    "C_reciclaje = 60 # Costo de manipulación y reciclaje por unidad no vendida\n",
    "C_perdida = 50 # Costo por venta perdida\n",
    "Rango_Produccion = range(10000, 20100, 100)\n",
    "\n",
    "# Datos Determinísticos\n",
    "numero_simulaciones = 10000\n",
    "\n",
    "# Datos Estocásticos\n",
    "media_demanda = 13000\n",
    "std_dev_demanda = 3162"
   ]
  },
  {
   "cell_type": "markdown",
   "metadata": {},
   "source": [
    "### Variables de Estado"
   ]
  },
  {
   "cell_type": "code",
   "execution_count": 49,
   "metadata": {},
   "outputs": [],
   "source": [
    "D = 0 # Cantidad demandada en cada simulación\n",
    "I = 0 # Cantidad total de ingresos en cada simulación\n",
    "C = 0 # Cantidad total de costos en cada simulación\n",
    "\n",
    "# Variable de Conteo\n",
    "B = 0 # Beneficio acumulado en cada simulación\n",
    "\n",
    "# Lista para almacenar los resultados de cada iteración\n",
    "resultados = []"
   ]
  },
  {
   "cell_type": "markdown",
   "metadata": {},
   "source": [
    "### Simulador"
   ]
  },
  {
   "cell_type": "code",
   "execution_count": 50,
   "metadata": {},
   "outputs": [],
   "source": [
    "for Q in Rango_Produccion:\n",
    "    for _ in range(numero_simulaciones):\n",
    "        # Generar números aleatorios con distribución uniforme (0, 1)\n",
    "        u1 = np.random.uniform()\n",
    "        u2 = np.random.uniform()\n",
    " \n",
    "        # Generar demanda con distribución normal de parámetros establecidos aplicando el método directo\n",
    "        D = media_demanda + std_dev_demanda * ((-2 * np.log(u1))**(1/2)) * np.cos(2 * np.pi * u2)\n",
    "\n",
    "        # nos aseguramos de que la demanda sea un entero\n",
    "        D = int(D)\n",
    "        \n",
    "        # Calcular Ingresos\n",
    "        I = P * np.min([D, Q])\n",
    "\n",
    "        # Calcular Costos\n",
    "        C = F + V * Q + C_reciclaje * np.max([0, Q - D]) + C_perdida * np.max([0, D - Q])\n",
    "\n",
    "        # Actualizar beneficio acumulado\n",
    "        B = B + (I - C)\n",
    "    \n",
    "    # Registro de los resultados de la simulación\n",
    "    resultados.append({\n",
    "        'Producción': Q,\n",
    "        'Beneficio Total Esperado (dólares)': B / numero_simulaciones\n",
    "    })\n",
    "\n",
    "    # Reiniciar variable de conteo\n",
    "    B = 0"
   ]
  },
  {
   "cell_type": "markdown",
   "metadata": {},
   "source": [
    "### Visualización de Resultados"
   ]
  },
  {
   "cell_type": "code",
   "execution_count": 51,
   "metadata": {},
   "outputs": [
    {
     "data": {
      "text/html": [
       "<div>\n",
       "<style scoped>\n",
       "    .dataframe tbody tr th:only-of-type {\n",
       "        vertical-align: middle;\n",
       "    }\n",
       "\n",
       "    .dataframe tbody tr th {\n",
       "        vertical-align: top;\n",
       "    }\n",
       "\n",
       "    .dataframe thead th {\n",
       "        text-align: right;\n",
       "    }\n",
       "</style>\n",
       "<table border=\"1\" class=\"dataframe\">\n",
       "  <thead>\n",
       "    <tr style=\"text-align: right;\">\n",
       "      <th></th>\n",
       "      <th>Producción</th>\n",
       "      <th>Beneficio Total Esperado (dólares)</th>\n",
       "    </tr>\n",
       "  </thead>\n",
       "  <tbody>\n",
       "    <tr>\n",
       "      <th>0</th>\n",
       "      <td>10000</td>\n",
       "      <td>268,110.60</td>\n",
       "    </tr>\n",
       "    <tr>\n",
       "      <th>1</th>\n",
       "      <td>10100</td>\n",
       "      <td>274,679.08</td>\n",
       "    </tr>\n",
       "    <tr>\n",
       "      <th>2</th>\n",
       "      <td>10200</td>\n",
       "      <td>283,481.58</td>\n",
       "    </tr>\n",
       "    <tr>\n",
       "      <th>3</th>\n",
       "      <td>10300</td>\n",
       "      <td>287,654.43</td>\n",
       "    </tr>\n",
       "    <tr>\n",
       "      <th>4</th>\n",
       "      <td>10400</td>\n",
       "      <td>293,510.68</td>\n",
       "    </tr>\n",
       "    <tr>\n",
       "      <th>...</th>\n",
       "      <td>...</td>\n",
       "      <td>...</td>\n",
       "    </tr>\n",
       "    <tr>\n",
       "      <th>96</th>\n",
       "      <td>19600</td>\n",
       "      <td>184,739.68</td>\n",
       "    </tr>\n",
       "    <tr>\n",
       "      <th>97</th>\n",
       "      <td>19700</td>\n",
       "      <td>177,247.39</td>\n",
       "    </tr>\n",
       "    <tr>\n",
       "      <th>98</th>\n",
       "      <td>19800</td>\n",
       "      <td>174,300.36</td>\n",
       "    </tr>\n",
       "    <tr>\n",
       "      <th>99</th>\n",
       "      <td>19900</td>\n",
       "      <td>167,828.61</td>\n",
       "    </tr>\n",
       "    <tr>\n",
       "      <th>100</th>\n",
       "      <td>20000</td>\n",
       "      <td>154,359.41</td>\n",
       "    </tr>\n",
       "  </tbody>\n",
       "</table>\n",
       "<p>101 rows × 2 columns</p>\n",
       "</div>"
      ],
      "text/plain": [
       "     Producción  Beneficio Total Esperado (dólares)\n",
       "0         10000                          268,110.60\n",
       "1         10100                          274,679.08\n",
       "2         10200                          283,481.58\n",
       "3         10300                          287,654.43\n",
       "4         10400                          293,510.68\n",
       "..          ...                                 ...\n",
       "96        19600                          184,739.68\n",
       "97        19700                          177,247.39\n",
       "98        19800                          174,300.36\n",
       "99        19900                          167,828.61\n",
       "100       20000                          154,359.41\n",
       "\n",
       "[101 rows x 2 columns]"
      ]
     },
     "execution_count": 51,
     "metadata": {},
     "output_type": "execute_result"
    }
   ],
   "source": [
    "# Visualización de resultados en forma tabular\n",
    "pd.options.display.float_format = '{:,.2f}'.format\n",
    "df_resultados = pd.DataFrame(resultados)\n",
    "df_resultados"
   ]
  },
  {
   "cell_type": "code",
   "execution_count": 56,
   "metadata": {},
   "outputs": [
    {
     "data": {
      "image/png": "[encoded data removed]",
      "text/plain": [
       "<Figure size 640x480 with 1 Axes>"
      ]
     },
     "metadata": {},
     "output_type": "display_data"
    }
   ],
   "source": [
    "# Gráfica de beneficio total vs. cantidades de producción\n",
    "plt.plot(df_resultados['Producción'], df_resultados['Beneficio Total Esperado (dólares)'], color='blue')\n",
    "plt.xlabel('Producción')\n",
    "plt.ylabel('Beneficio Total Esperado (dólares)')\n",
    "plt.grid()\n",
    "plt.show()"
   ]
  },
  {
   "cell_type": "markdown",
   "metadata": {},
   "source": [
    "### Réplicas"
   ]
  },
  {
   "cell_type": "code",
   "execution_count": 53,
   "metadata": {},
   "outputs": [
    {
     "data": {
      "text/html": [
       "<div>\n",
       "<style scoped>\n",
       "    .dataframe tbody tr th:only-of-type {\n",
       "        vertical-align: middle;\n",
       "    }\n",
       "\n",
       "    .dataframe tbody tr th {\n",
       "        vertical-align: top;\n",
       "    }\n",
       "\n",
       "    .dataframe thead th {\n",
       "        text-align: right;\n",
       "    }\n",
       "</style>\n",
       "<table border=\"1\" class=\"dataframe\">\n",
       "  <thead>\n",
       "    <tr style=\"text-align: right;\">\n",
       "      <th></th>\n",
       "      <th>Producción</th>\n",
       "      <th>Beneficio Total Esperado (dólares)</th>\n",
       "    </tr>\n",
       "  </thead>\n",
       "  <tbody>\n",
       "    <tr>\n",
       "      <th>36</th>\n",
       "      <td>13600</td>\n",
       "      <td>414,759.14</td>\n",
       "    </tr>\n",
       "    <tr>\n",
       "      <th>42</th>\n",
       "      <td>14200</td>\n",
       "      <td>412,199.52</td>\n",
       "    </tr>\n",
       "    <tr>\n",
       "      <th>37</th>\n",
       "      <td>13700</td>\n",
       "      <td>410,436.01</td>\n",
       "    </tr>\n",
       "    <tr>\n",
       "      <th>35</th>\n",
       "      <td>13500</td>\n",
       "      <td>413,979.31</td>\n",
       "    </tr>\n",
       "    <tr>\n",
       "      <th>43</th>\n",
       "      <td>14300</td>\n",
       "      <td>411,343.45</td>\n",
       "    </tr>\n",
       "    <tr>\n",
       "      <th>36</th>\n",
       "      <td>13600</td>\n",
       "      <td>411,062.84</td>\n",
       "    </tr>\n",
       "    <tr>\n",
       "      <th>39</th>\n",
       "      <td>13900</td>\n",
       "      <td>413,144.42</td>\n",
       "    </tr>\n",
       "    <tr>\n",
       "      <th>39</th>\n",
       "      <td>13900</td>\n",
       "      <td>414,228.64</td>\n",
       "    </tr>\n",
       "    <tr>\n",
       "      <th>40</th>\n",
       "      <td>14000</td>\n",
       "      <td>412,476.67</td>\n",
       "    </tr>\n",
       "    <tr>\n",
       "      <th>43</th>\n",
       "      <td>14300</td>\n",
       "      <td>413,420.91</td>\n",
       "    </tr>\n",
       "  </tbody>\n",
       "</table>\n",
       "</div>"
      ],
      "text/plain": [
       "    Producción  Beneficio Total Esperado (dólares)\n",
       "36       13600                          414,759.14\n",
       "42       14200                          412,199.52\n",
       "37       13700                          410,436.01\n",
       "35       13500                          413,979.31\n",
       "43       14300                          411,343.45\n",
       "36       13600                          411,062.84\n",
       "39       13900                          413,144.42\n",
       "39       13900                          414,228.64\n",
       "40       14000                          412,476.67\n",
       "43       14300                          413,420.91"
      ]
     },
     "execution_count": 53,
     "metadata": {},
     "output_type": "execute_result"
    }
   ],
   "source": [
    "# Registramos la iteración con el mayor beneficio total esperado en esta réplica\n",
    "replicas = pd.concat([replicas, df_resultados.loc[df_resultados['Beneficio Total Esperado (dólares)'] == df_resultados['Beneficio Total Esperado (dólares)'].max()]])\n",
    "replicas"
   ]
  },
  {
   "cell_type": "markdown",
   "metadata": {},
   "source": [
    "### Criterio de Selección"
   ]
  },
  {
   "cell_type": "code",
   "execution_count": 55,
   "metadata": {},
   "outputs": [
    {
     "name": "stdout",
     "output_type": "stream",
     "text": [
      "count       10.00\n",
      "mean    13,900.00\n",
      "std        298.14\n",
      "min     13,500.00\n",
      "25%     13,625.00\n",
      "50%     13,900.00\n",
      "75%     14,150.00\n",
      "max     14,300.00\n",
      "Name: Producción, dtype: float64\n"
     ]
    }
   ],
   "source": [
    "print(replicas['Producción'].describe())"
   ]
  }
 ],
 "metadata": {
  "kernelspec": {
   "display_name": "Python 3 (ipykernel)",
   "language": "python",
   "name": "python3"
  },
  "language_info": {
   "codemirror_mode": {
    "name": "ipython",
    "version": 3
   },
   "file_extension": ".py",
   "mimetype": "text/x-python",
   "name": "python",
   "nbconvert_exporter": "python",
   "pygments_lexer": "ipython3",
   "version": "3.12.0"
  }
 },
 "nbformat": 4,
 "nbformat_minor": 4
}
